{
 "cells": [
  {
   "cell_type": "code",
   "execution_count": 1,
   "metadata": {
    "collapsed": true,
    "ExecuteTime": {
     "start_time": "2023-05-10T09:48:54.889563Z",
     "end_time": "2023-05-10T09:48:55.180876Z"
    }
   },
   "outputs": [],
   "source": [
    "import pandas as pd\n",
    "pd.set_option('display.max_rows', 25)\n",
    "pd.set_option('display.max_columns', 500)\n",
    "pd.set_option('display.width', 1000)"
   ]
  },
  {
   "cell_type": "code",
   "execution_count": 2,
   "outputs": [
    {
     "data": {
      "text/plain": "     Input                     Time   Latitude  Longitude    Altitude     Pitch         Yaw      Roll  Stonex_status\n0     SMAR  2023-05-09 16:58:12.598  46.089803  11.115598  244.899994 -4.900000 -155.880000 -0.310000            NaN\n1     SMAR  2023-05-09 16:58:12.617  46.089803  11.115598  244.899994 -4.890000 -155.860000 -0.300000            NaN\n2     STON  2023-05-09 16:58:12.617  46.089802  11.115624  198.303000 -4.362865  -40.588020 -0.411021            2.0\n3     SMAR  2023-05-09 16:58:12.659  46.089803  11.115598  244.899994 -4.880000 -155.820000 -0.290000            NaN\n4     SMAR  2023-05-09 16:58:12.693  46.089803  11.115598  244.899994 -4.870000 -155.740000 -0.290000            NaN\n...    ...                      ...        ...        ...         ...       ...         ...       ...            ...\n3185  SMAR  2023-05-09 16:59:32.977  46.089850  11.115643  244.699997  6.590000  153.870000  1.440000            NaN\n3186  SMAR  2023-05-09 16:59:33.002  46.089850  11.115643  244.699997  6.350000  152.910000  1.880000            NaN\n3187  SMAR  2023-05-09 16:59:33.033  46.089850  11.115643  244.699997  6.080000  152.180000  2.380000            NaN\n3188  STON  2023-05-09 16:59:33.033  46.089817  11.115612  198.462000  7.830273    9.885505  0.637223            2.0\n3189  STON  2023-05-09 16:59:33.033  46.089817        NaN         NaN       NaN         NaN       NaN            NaN\n\n[3190 rows x 9 columns]",
      "text/html": "<div>\n<style scoped>\n    .dataframe tbody tr th:only-of-type {\n        vertical-align: middle;\n    }\n\n    .dataframe tbody tr th {\n        vertical-align: top;\n    }\n\n    .dataframe thead th {\n        text-align: right;\n    }\n</style>\n<table border=\"1\" class=\"dataframe\">\n  <thead>\n    <tr style=\"text-align: right;\">\n      <th></th>\n      <th>Input</th>\n      <th>Time</th>\n      <th>Latitude</th>\n      <th>Longitude</th>\n      <th>Altitude</th>\n      <th>Pitch</th>\n      <th>Yaw</th>\n      <th>Roll</th>\n      <th>Stonex_status</th>\n    </tr>\n  </thead>\n  <tbody>\n    <tr>\n      <th>0</th>\n      <td>SMAR</td>\n      <td>2023-05-09 16:58:12.598</td>\n      <td>46.089803</td>\n      <td>11.115598</td>\n      <td>244.899994</td>\n      <td>-4.900000</td>\n      <td>-155.880000</td>\n      <td>-0.310000</td>\n      <td>NaN</td>\n    </tr>\n    <tr>\n      <th>1</th>\n      <td>SMAR</td>\n      <td>2023-05-09 16:58:12.617</td>\n      <td>46.089803</td>\n      <td>11.115598</td>\n      <td>244.899994</td>\n      <td>-4.890000</td>\n      <td>-155.860000</td>\n      <td>-0.300000</td>\n      <td>NaN</td>\n    </tr>\n    <tr>\n      <th>2</th>\n      <td>STON</td>\n      <td>2023-05-09 16:58:12.617</td>\n      <td>46.089802</td>\n      <td>11.115624</td>\n      <td>198.303000</td>\n      <td>-4.362865</td>\n      <td>-40.588020</td>\n      <td>-0.411021</td>\n      <td>2.0</td>\n    </tr>\n    <tr>\n      <th>3</th>\n      <td>SMAR</td>\n      <td>2023-05-09 16:58:12.659</td>\n      <td>46.089803</td>\n      <td>11.115598</td>\n      <td>244.899994</td>\n      <td>-4.880000</td>\n      <td>-155.820000</td>\n      <td>-0.290000</td>\n      <td>NaN</td>\n    </tr>\n    <tr>\n      <th>4</th>\n      <td>SMAR</td>\n      <td>2023-05-09 16:58:12.693</td>\n      <td>46.089803</td>\n      <td>11.115598</td>\n      <td>244.899994</td>\n      <td>-4.870000</td>\n      <td>-155.740000</td>\n      <td>-0.290000</td>\n      <td>NaN</td>\n    </tr>\n    <tr>\n      <th>...</th>\n      <td>...</td>\n      <td>...</td>\n      <td>...</td>\n      <td>...</td>\n      <td>...</td>\n      <td>...</td>\n      <td>...</td>\n      <td>...</td>\n      <td>...</td>\n    </tr>\n    <tr>\n      <th>3185</th>\n      <td>SMAR</td>\n      <td>2023-05-09 16:59:32.977</td>\n      <td>46.089850</td>\n      <td>11.115643</td>\n      <td>244.699997</td>\n      <td>6.590000</td>\n      <td>153.870000</td>\n      <td>1.440000</td>\n      <td>NaN</td>\n    </tr>\n    <tr>\n      <th>3186</th>\n      <td>SMAR</td>\n      <td>2023-05-09 16:59:33.002</td>\n      <td>46.089850</td>\n      <td>11.115643</td>\n      <td>244.699997</td>\n      <td>6.350000</td>\n      <td>152.910000</td>\n      <td>1.880000</td>\n      <td>NaN</td>\n    </tr>\n    <tr>\n      <th>3187</th>\n      <td>SMAR</td>\n      <td>2023-05-09 16:59:33.033</td>\n      <td>46.089850</td>\n      <td>11.115643</td>\n      <td>244.699997</td>\n      <td>6.080000</td>\n      <td>152.180000</td>\n      <td>2.380000</td>\n      <td>NaN</td>\n    </tr>\n    <tr>\n      <th>3188</th>\n      <td>STON</td>\n      <td>2023-05-09 16:59:33.033</td>\n      <td>46.089817</td>\n      <td>11.115612</td>\n      <td>198.462000</td>\n      <td>7.830273</td>\n      <td>9.885505</td>\n      <td>0.637223</td>\n      <td>2.0</td>\n    </tr>\n    <tr>\n      <th>3189</th>\n      <td>STON</td>\n      <td>2023-05-09 16:59:33.033</td>\n      <td>46.089817</td>\n      <td>NaN</td>\n      <td>NaN</td>\n      <td>NaN</td>\n      <td>NaN</td>\n      <td>NaN</td>\n      <td>NaN</td>\n    </tr>\n  </tbody>\n</table>\n<p>3190 rows × 9 columns</p>\n</div>"
     },
     "execution_count": 2,
     "metadata": {},
     "output_type": "execute_result"
    }
   ],
   "source": [
    "df = pd.read_csv('files/2023_5_9/measurement/measurement_16-58-12.csv')\n",
    "df"
   ],
   "metadata": {
    "collapsed": false,
    "ExecuteTime": {
     "start_time": "2023-05-10T09:48:55.181881Z",
     "end_time": "2023-05-10T09:48:55.206852Z"
    }
   }
  },
  {
   "cell_type": "code",
   "execution_count": null,
   "outputs": [],
   "source": [],
   "metadata": {
    "collapsed": false
   }
  }
 ],
 "metadata": {
  "kernelspec": {
   "display_name": "Python 3",
   "language": "python",
   "name": "python3"
  },
  "language_info": {
   "codemirror_mode": {
    "name": "ipython",
    "version": 2
   },
   "file_extension": ".py",
   "mimetype": "text/x-python",
   "name": "python",
   "nbconvert_exporter": "python",
   "pygments_lexer": "ipython2",
   "version": "2.7.6"
  }
 },
 "nbformat": 4,
 "nbformat_minor": 0
}
